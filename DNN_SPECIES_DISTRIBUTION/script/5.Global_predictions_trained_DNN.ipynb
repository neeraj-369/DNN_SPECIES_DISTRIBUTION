{
 "cells": [
  {
   "cell_type": "markdown",
   "metadata": {},
   "source": [
    "#### Setup\n",
    "We first set the notebook to display the output from each code block, <br>\n",
    "then import the required packages and set the file directory."
   ]
  },
  {
   "cell_type": "code",
   "execution_count": 1,
   "metadata": {},
   "outputs": [
    {
     "name": "stdout",
     "output_type": "stream",
     "text": [
      "cycler\n",
      "dateutil\n",
      "kiwisolver\n",
      "numpy\n",
      "pyparsing\n",
      "certifi\n",
      "numexpr\n",
      "bottleneck\n",
      "setuptools._distutils\n",
      "distutils\n",
      "setuptools._distutils\n",
      "_distutils_system_mod\n",
      "distutils.core\n",
      "setuptools.msvc\n"
     ]
    },
    {
     "name": "stderr",
     "output_type": "stream",
     "text": [
      "2023-05-10 05:09:20.764815: I tensorflow/core/platform/cpu_feature_guard.cc:182] This TensorFlow binary is optimized to use available CPU instructions in performance-critical operations.\n",
      "To enable the following instructions: SSE4.1 SSE4.2, in other operations, rebuild TensorFlow with the appropriate compiler flags.\n"
     ]
    },
    {
     "name": "stdout",
     "output_type": "stream",
     "text": [
      "google._upb._message\n",
      "tensorflow.python.data.ops.batch_op\n",
      "tensorflow.python.data.ops.prefetch_op\n",
      "tensorflow.python.data.ops.shuffle_op\n",
      "tensorflow.python.data.ops.repeat_op\n",
      "tensorflow.compiler.tf2tensorrt.ops.gen_trt_ops\n",
      "tensorflow.compiler.tf2tensorrt._pywrap_py_utils\n",
      "keras.api._v2.keras\n"
     ]
    }
   ],
   "source": [
    "from __future__ import print_function\n",
    "from IPython.core.interactiveshell import InteractiveShell\n",
    "InteractiveShell.ast_node_interactivity = \"all\"\n",
    "\n",
    "\n",
    "from mpl_toolkits.axes_grid1 import make_axes_locatable\n",
    "import matplotlib.pyplot as plt\n",
    "from rasterio.plot import show\n",
    "import matplotlib.colors\n",
    "import numpy as np\n",
    "import pandas as pd\n",
    "import rasterio\n",
    "import os\n",
    "\n",
    "\n",
    "try:\n",
    "    import keras\n",
    "    from keras.models import model_from_json\n",
    "    from keras.optimizers import Adam\n",
    "    from keras.losses import categorical_crossentropy\n",
    "    import tensorflow as tf\n",
    "\n",
    "except:\n",
    "    print(\"Keras not found\")\n",
    "    \n",
    "np.random.seed(42)\n",
    "\n",
    "def my_basename(path):\n",
    "    return os.path.splitext(os.path.split(path)[1])[0]\n",
    "\n",
    "file_dir=r'/Users/neeraj/BTP'"
   ]
  },
  {
   "cell_type": "markdown",
   "metadata": {},
   "source": [
    "#### Prepare global predictions \n",
    "To be able to predict global distributions, we must first load in the stacked world raster map and the species we want to make the predictions for. <br>\n",
    "Next to this, a colormap needs to be made for the range of predicted probability of presence in each cell."
   ]
  },
  {
   "cell_type": "code",
   "execution_count": 2,
   "metadata": {},
   "outputs": [
    {
     "name": "stdout",
     "output_type": "stream",
     "text": [
      "(41, 1800, 4320)\n",
      "<class 'numpy.ndarray'>\n"
     ]
    }
   ],
   "source": [
    "##opening raster as 3d numpy array\n",
    "# inRas=gdal.Open(file_dir+'/data/GIS/env_stacked/ENVIREM_BIOCLIM_stacked.tif')\n",
    "# myarray=inRas.ReadAsArray()\n",
    "with rasterio.open(file_dir+'/data/GIS/env_stacked/ENVIREM_BIOCLIM_stacked.tif') as src:\n",
    "    # Read the raster data as a NumPy array\n",
    "    myarray = src.read()\n",
    "\n",
    "print(myarray.shape)\n",
    "print(type(myarray))\n"
   ]
  },
  {
   "cell_type": "code",
   "execution_count": 3,
   "metadata": {},
   "outputs": [
    {
     "name": "stdout",
     "output_type": "stream",
     "text": [
      "zstandard\n"
     ]
    }
   ],
   "source": [
    "#access file with list of taxa names\n",
    "taxa=pd.read_csv(file_dir+\"/results/DNN_performance/DNN_eval.txt\",sep=\"\\t\")\n",
    "taxa=taxa[\"Species\"]"
   ]
  },
  {
   "cell_type": "code",
   "execution_count": 4,
   "metadata": {},
   "outputs": [
    {
     "name": "stdout",
     "output_type": "stream",
     "text": [
      "matplotlib_inline.backend_inline\n",
      "matplotlib_inline.backend_inline\n"
     ]
    },
    {
     "data": {
      "text/plain": [
       "<matplotlib.colorbar.Colorbar at 0x1b1baca30>"
      ]
     },
     "execution_count": 4,
     "metadata": {},
     "output_type": "execute_result"
    },
    {
     "data": {
      "image/png": "[encoded data removed]",
      "text/plain": [
       "<Figure size 640x480 with 2 Axes>"
      ]
     },
     "metadata": {},
     "output_type": "display_data"
    }
   ],
   "source": [
    "#create colormap for maps\n",
    "norm = matplotlib.colors.Normalize(0,1)\n",
    "colors = [[norm(0), \"0.95\"],\n",
    "          [norm(0.05),\"steelblue\"],\n",
    "          [norm(0.1),\"sienna\"],\n",
    "          [norm(0.3),\"wheat\"],\n",
    "          [norm(0.5),\"cornsilk\"],\n",
    "          [norm(0.95),\"yellowgreen\"],\n",
    "          [norm(1.0),\"green\"]]\n",
    "        \n",
    "custom_cmap = matplotlib.colors.LinearSegmentedColormap.from_list(\"\", colors)\n",
    "custom_cmap.set_bad(color=\"white\")\n",
    "\n",
    "fig, ax=plt.subplots()\n",
    "x = np.arange(10)\n",
    "y = np.linspace(-1,1,10)\n",
    "sc = ax.scatter(x,y, c=y, norm=norm, cmap=custom_cmap)\n",
    "fig.colorbar(sc, orientation=\"horizontal\")\n",
    "plt.show()"
   ]
  },
  {
   "cell_type": "markdown",
   "metadata": {},
   "source": [
    "The bands in the stacked raster map differ in the detail of continental outline, especially along the coastlines and for inland lakes. This creates problems when making global predictions as the model will always set them to 1. To combat this issue we take two input maps with high detail outlines of the continents and lakes (Aspect 5deg and ClayPercentage) and save the index values where these bands contain no-data values. These index values are masked from the global prediction that is made."
   ]
  },
  {
   "cell_type": "code",
   "execution_count": 5,
   "metadata": {},
   "outputs": [],
   "source": [
    "###create an index of the continental borders and coastal, lake cells that should be excluded from prediction\n",
    "### Aspect and clay percentage raster have high resolution outline\n",
    "src=rasterio.open(file_dir+'/data/GIS/5_deg/Aspect_5deg.tif')\n",
    "b=src.read(1)\n",
    "minb=np.min(b)\n",
    "index_minb1=np.where(b==minb)\n",
    "\n",
    "src=rasterio.open(file_dir+'/data/GIS/5_deg/ClayPercentage_5min.tif')\n",
    "b=src.read(1)\n",
    "minb=np.min(b)\n",
    "index_minb2=np.where(b==minb)"
   ]
  },
  {
   "cell_type": "markdown",
   "metadata": {},
   "source": [
    "#### Create global predictions\n",
    "Going iteratively through the species, the DNN model network and weights are recostructed using .json and .h5 files. A numpy array containing the environmental variable values of all terrestrial cells is then opened and fed to the model. <br>\n",
    "\n",
    "The predicted probabilities for output class 1 (present) are extracted and put into a numpy array. The values of this numpy array are subset into a copy of the first band of the stacked world raster.The inland lakes and coastlines are masked from the prediction using the index values extracted earlier and the profile of the copied band is updated to a single-band raster. <br>\n",
    "\n",
    "This single band raster is saved as a Tiff file and used to make a colormap version that is easier to interpret and suitable for publication. "
   ]
  },
  {
   "cell_type": "code",
   "execution_count": 6,
   "metadata": {},
   "outputs": [],
   "source": [
    "%%capture\n",
    "for species in taxa[:]:\n",
    "\n",
    "    spec=species\n",
    "    print(\"processing\", spec)\n",
    "    spec=spec.replace(\" \",\"_\")\n",
    "\n",
    "    ##########################################################\n",
    "    #  reconstruct the model and run the prediction globally #\n",
    "    ##########################################################\n",
    "\n",
    "    input_X=np.load(file_dir+'/data/GIS/world_prediction_array.npy')\n",
    "    df=pd.DataFrame(input_X)\n",
    "\n",
    "    #create copy of band to later subset values in\n",
    "    new_band=myarray[1].copy()\n",
    "    new_band.shape\n",
    "\n",
    "    ### Load DNN model for the species and predict values:\n",
    "    json_file = open(file_dir+'/results/{}/{}_model.json'.format(spec,spec),'r')\n",
    "    loaded_model_json = json_file.read()\n",
    "    json_file.close()\n",
    "    loaded_model = model_from_json(loaded_model_json)\n",
    "\n",
    "    #load weights into new model\n",
    "    loaded_model.load_weights(file_dir+'/results/{}/{}_model.h5'.format(spec,spec))\n",
    "\n",
    "    #compile model\n",
    "    loaded_model.compile(loss='categorical_crossentropy', optimizer=Adam(lr=0.001), metrics=['accuracy'])\n",
    "\n",
    "    #predict values for world map\n",
    "    # print(type(input_X))\n",
    "    new_values = loaded_model.predict(x=input_X,batch_size=500,verbose=0) ###predict output value\n",
    "\n",
    "    ##take the prob. of presence (new_value.item((0,1))) and put into numpy array\n",
    "    new_band_values=[]\n",
    "    for i in new_values:\n",
    "        new_value=i[1]\n",
    "        new_band_values.append(new_value)\n",
    "    new_band_values=np.array(new_band_values)\n",
    "\n",
    "    df=pd.read_csv(file_dir+'/data/GIS/world_prediction_row_col.csv')\n",
    "    row=df[\"row\"]\n",
    "    row=row.values\n",
    "    col=df[\"col\"]\n",
    "    col=col.values\n",
    "    \n",
    "    #################################\n",
    "    # subset output into rasterband #\n",
    "    #################################\n",
    "    for i in range(0,len(row)):\n",
    "        new_band[int(row[i]),int(col[i])]=new_band_values[i]\n",
    "\n",
    "    new_band[index_minb1]=np.nan #exclude lakes, inland seas, coastline\n",
    "    new_band[index_minb2]=np.nan\n",
    "    \n",
    "    src=rasterio.open(file_dir+'/data/GIS/env_stacked/ENVIREM_BIOCLIM_stacked.tif')\n",
    "    profile=src.profile\n",
    "    profile.update(count=1)\n",
    "\n",
    "    #write to file\n",
    "    with rasterio.open(file_dir+'/results/{}/{}_predicted_map.tif'.format(spec,spec), 'w', **profile) as dst:\n",
    "        dst.write(new_band, 1) \n",
    "        \n",
    "    ####################################\n",
    "    # create additional colormap image #\n",
    "    ####################################\n",
    "    \n",
    "    clipped = rasterio.open(file_dir+'/results/{}/{}_predicted_map.tif'.format(spec,spec))\n",
    "    \n",
    "    array = clipped.read(1)\n",
    "    array_data = clipped.read(1,masked=True)\n",
    "    array_data[index_minb1]=np.nan\n",
    "    array_data[index_minb2]=np.nan\n",
    "    array_meta = clipped.profile\n",
    "    \n",
    "    #create figure\n",
    "    my_dpi=96\n",
    "    fig, ax = plt.subplots(figsize=(4320/my_dpi, 1800/my_dpi))\n",
    "    im=ax.imshow(array_data,cmap=custom_cmap,interpolation=\"bilinear\",vmin=0,vmax=0.99)#,filternorm=1)\n",
    "    divider=make_axes_locatable(ax)\n",
    "    cax=divider.append_axes(\"right\",size=\"2%\",pad=0.1)\n",
    "    fig.colorbar(im,cax=cax)\n",
    "    spec=spec.replace(\"_\",\" \")\n",
    "    plt.yticks(fontsize=40)\n",
    "    ax.set_title('%s prediction map'%spec,fontsize=80)\n",
    "    \n",
    "    #save to file\n",
    "    spec=spec.replace(\" \",\"_\")\n",
    "    plt.savefig(file_dir+'/results/{}/{}_predicted_map_color.png'.format(spec,spec),dpi=my_dpi)\n",
    "    \n",
    "    #next species!"
   ]
  }
 ],
 "metadata": {
  "kernelspec": {
   "display_name": "Python 3",
   "language": "python",
   "name": "python3"
  },
  "language_info": {
   "codemirror_mode": {
    "name": "ipython",
    "version": 3
   },
   "file_extension": ".py",
   "mimetype": "text/x-python",
   "name": "python",
   "nbconvert_exporter": "python",
   "pygments_lexer": "ipython3",
   "version": "3.8.16"
  }
 },
 "nbformat": 4,
 "nbformat_minor": 2
}
