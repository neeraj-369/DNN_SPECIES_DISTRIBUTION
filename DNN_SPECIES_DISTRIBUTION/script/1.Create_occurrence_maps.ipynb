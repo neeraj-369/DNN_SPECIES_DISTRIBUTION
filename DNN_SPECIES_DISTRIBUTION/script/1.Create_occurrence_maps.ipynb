{
 "cells": [
  {
   "attachments": {},
   "cell_type": "markdown",
   "metadata": {},
   "source": [
    "#### Setup \n",
    "We first set the notebook to display the output from each code block, <br>\n",
    "then import the required packages and set the file directory"
   ]
  },
  {
   "cell_type": "code",
   "execution_count": 4,
   "metadata": {},
   "outputs": [],
   "source": [
    "from IPython.core.interactiveshell import InteractiveShell\n",
    "InteractiveShell.ast_node_interactivity = \"all\"\n",
    "\n",
    "from mpl_toolkits.basemap import Basemap\n",
    "from shapely.geometry import Point\n",
    "import matplotlib.pyplot as plt\n",
    "import pandas as pd\n",
    "import geopandas\n",
    "import pyproj\n",
    "\n",
    "file_dir=r'/Users/neeraj/BTP'"
   ]
  },
  {
   "attachments": {},
   "cell_type": "markdown",
   "metadata": {},
   "source": [
    "#### Read in species data\n",
    "A text file with the names of all the species we want to create the occurrence maps for is loaded in. <br>\n",
    "This can be used to call up the set of filtered occurrences for each species, and store this information in a dictionary.<br>\n"
   ]
  },
  {
   "cell_type": "code",
   "execution_count": 5,
   "metadata": {},
   "outputs": [
    {
     "name": "stdout",
     "output_type": "stream",
     "text": [
      "All species dataframes now in dictionary\n"
     ]
    }
   ],
   "source": [
    "#access file with list of taxa names\n",
    "taxa=pd.read_csv(file_dir+\"/data/spec_filtered/taxa.txt\",header=None)\n",
    "taxa.columns=[\"taxon\"]\n",
    "species_occ_dict={}\n",
    "\n",
    "#store species occurrences in dictionary\n",
    "for i in taxa[\"taxon\"]:\n",
    "    taxon_data = pd.read_csv(file_dir+\"/data/spec_filtered/%s.csv\"%i)\n",
    "    species_occ_dict[\"%s\"%i] = taxon_data  \n",
    "    \n",
    "#check whether all species have been included and inspect dictionary\n",
    "if len(species_occ_dict.keys())==len(taxa[\"taxon\"]):\n",
    "    print(\"All species dataframes now in dictionary\")\n",
    "else:\n",
    "    print(\"Error: not all species dataframe included\")"
   ]
  },
  {
   "attachments": {},
   "cell_type": "markdown",
   "metadata": {},
   "source": [
    "#### Plot species occurrence points\n",
    "For each species, the occurrence data is extracted from the dictionary. <br>\n",
    "The centre-point of the map is determined based on the mean latitude and longitude of the occurrences. <br>\n",
    "After which the basemap is created and the points are plotted on this map."
   ]
  },
  {
   "cell_type": "code",
   "execution_count": 6,
   "metadata": {},
   "outputs": [],
   "source": [
    "%%capture\n",
    "for key in species_occ_dict:\n",
    "    \n",
    "    #extract occurrence data for species\n",
    "    data = species_occ_dict[key]\n",
    "    spec = data[\"taxon_name\"][0]\n",
    "    spec=spec.replace(\" \",\"_\")\n",
    "    \n",
    "    lat=data[\"decimal_latitude\"]\n",
    "    lon=data[\"decimal_longitude\"]\n",
    "    \n",
    "    meanlat=sum(lat)/len(lat)\n",
    "    meanlon=sum(lon)/len(lon)\n",
    "       \n",
    "   \n",
    "    #create the map extend\n",
    "    fig=plt.figure(figsize=(12, 12))\n",
    "    map = Basemap(projection=\"aeqd\",resolution=\"l\", ellps=\"WGS84\",\n",
    "        lat_0=meanlat,lon_0=meanlon,\n",
    "        width=3000*2500,height=3000*2500,\n",
    "        suppress_ticks=False,)  \n",
    "    map.drawmapboundary(fill_color='white')\n",
    "    map.fillcontinents(color='lightgray',lake_color='white')\n",
    "    map.drawcountries(color=\"gray\")\n",
    "    map.drawcoastlines(linewidth=0.2)\n",
    "\n",
    "    #plot the points on the map\n",
    "    for i in range(0,len(lon)):\n",
    "        xpt,ypt = map(lon[i],lat[i])\n",
    "        map.plot([xpt],[ypt],\"ko\",markersize=5,color=\"yellow\",markeredgecolor=\"black\")\n",
    "        \n",
    "        \n",
    "    #save the figure\n",
    "    spec_t=spec.replace(\"_\",\" \")\n",
    "    plt.title(\"Filtered occurrences for %s\"%spec_t,fontsize=20,fontweight=\"bold\")\n",
    "    plt.savefig(file_dir+'/results/{}/{}_occurrence_map.png'.format(spec,spec),pad_inches=0.0, bbox_inches='tight')\n",
    "    \n",
    "    #check figure and close it\n",
    "    plt.show()\n",
    "    plt.close()"
   ]
  }
 ],
 "metadata": {
  "kernelspec": {
   "display_name": "Python 3",
   "language": "python",
   "name": "python3"
  },
  "language_info": {
   "codemirror_mode": {
    "name": "ipython",
    "version": 3
   },
   "file_extension": ".py",
   "mimetype": "text/x-python",
   "name": "python",
   "nbconvert_exporter": "python",
   "pygments_lexer": "ipython3",
   "version": "3.8.16"
  }
 },
 "nbformat": 4,
 "nbformat_minor": 2
}
